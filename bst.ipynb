{
 "cells": [
  {
   "cell_type": "code",
   "execution_count": 1,
   "metadata": {},
   "outputs": [],
   "source": [
    "class Node:\n",
    "    def __init__(self, data:int = None):\n",
    "        self.data = data\n",
    "        self.left = None\n",
    "        self.right = None\n",
    "\n"
   ]
  },
  {
   "cell_type": "code",
   "execution_count": 15,
   "metadata": {},
   "outputs": [],
   "source": [
    "class BST:\n",
    "    def __init__(self) -> None:\n",
    "        self.root = None\n",
    "    \n",
    "    def insert(self, data:int):\n",
    "        # Nested functions\n",
    "        def insert_helper(curr:Node):\n",
    "            if data < curr.data:\n",
    "                if not curr.left:\n",
    "                    curr.left = Node(data)\n",
    "                else:\n",
    "                    insert_helper(curr.left)\n",
    "\n",
    "            elif data > curr.data:\n",
    "                if not curr.right:\n",
    "                    curr.right = Node(data)\n",
    "                else:\n",
    "                    insert_helper(curr.right)\n",
    "    \n",
    "        if not self.root:\n",
    "            self.root = Node(data)\n",
    "        else:\n",
    "            insert_helper(self.root)\n",
    "\n",
    "\n",
    "    def find(self, data:int):\n",
    "        def find_helper(curr:Node):\n",
    "            if not curr:\n",
    "                return False\n",
    "            if data == curr.data:\n",
    "                return True\n",
    "            elif data < curr.data:\n",
    "                return find_helper(curr.left)\n",
    "            elif data > curr.data:\n",
    "                return find_helper(curr.right)\n",
    "            \n",
    "        return find_helper(self.root)\n",
    "    \n",
    "    def inorder_traverse(self):\n",
    "        def inorder_helper(curr:Node):\n",
    "            if curr:\n",
    "                inorder_helper(curr.left)\n",
    "                print(curr.data)\n",
    "                inorder_helper(curr.right)\n",
    "            \n",
    "        if self.root:\n",
    "            inorder_helper(self.root)\n",
    "\n",
    "            \n",
    "    "
   ]
  },
  {
   "cell_type": "code",
   "execution_count": 19,
   "metadata": {},
   "outputs": [],
   "source": [
    "bst = BST()\n",
    "\n",
    "bst.insert(3)\n",
    "bst.insert(0)\n",
    "bst.insert(1)\n",
    "bst.insert(5)\n",
    "bst.insert(2)\n",
    "bst.insert(5)"
   ]
  },
  {
   "cell_type": "code",
   "execution_count": 12,
   "metadata": {},
   "outputs": [
    {
     "name": "stdout",
     "output_type": "stream",
     "text": [
      "True\n",
      "True\n",
      "True\n",
      "True\n",
      "True\n",
      "True\n",
      "False\n",
      "False\n",
      "False\n"
     ]
    }
   ],
   "source": [
    "print(bst.find(1))\n",
    "print(bst.find(0))\n",
    "print(bst.find(5))\n",
    "print(bst.find(5))\n",
    "print(bst.find(2))\n",
    "print(bst.find(2))\n",
    "print(bst.find(334))\n",
    "print(bst.find(2342))\n",
    "print(bst.find(11))"
   ]
  },
  {
   "cell_type": "code",
   "execution_count": 20,
   "metadata": {},
   "outputs": [
    {
     "name": "stdout",
     "output_type": "stream",
     "text": [
      "0\n",
      "1\n",
      "2\n",
      "3\n",
      "5\n"
     ]
    }
   ],
   "source": [
    "bst.inorder_traverse()"
   ]
  },
  {
   "cell_type": "code",
   "execution_count": 21,
   "metadata": {},
   "outputs": [],
   "source": [
    "bst.insert(4)\n",
    "bst.insert(7)\n",
    "bst.insert(6)"
   ]
  },
  {
   "cell_type": "code",
   "execution_count": 22,
   "metadata": {},
   "outputs": [
    {
     "name": "stdout",
     "output_type": "stream",
     "text": [
      "0\n",
      "1\n",
      "2\n",
      "3\n",
      "4\n",
      "5\n",
      "6\n",
      "7\n"
     ]
    }
   ],
   "source": [
    "bst.inorder_traverse()"
   ]
  }
 ],
 "metadata": {
  "kernelspec": {
   "display_name": "Python 3",
   "language": "python",
   "name": "python3"
  },
  "language_info": {
   "codemirror_mode": {
    "name": "ipython",
    "version": 3
   },
   "file_extension": ".py",
   "mimetype": "text/x-python",
   "name": "python",
   "nbconvert_exporter": "python",
   "pygments_lexer": "ipython3",
   "version": "3.10.4"
  },
  "orig_nbformat": 4
 },
 "nbformat": 4,
 "nbformat_minor": 2
}
