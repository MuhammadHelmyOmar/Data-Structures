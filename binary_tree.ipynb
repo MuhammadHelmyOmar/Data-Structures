{
 "cells": [
  {
   "cell_type": "code",
   "execution_count": 1,
   "metadata": {},
   "outputs": [],
   "source": [
    "class Node(object):\n",
    "    def __init__(self, value:int):\n",
    "        self.value = value\n",
    "        self.left = None\n",
    "        self.right = None"
   ]
  },
  {
   "cell_type": "code",
   "execution_count": 11,
   "metadata": {},
   "outputs": [],
   "source": [
    "class Queue(object):\n",
    "    def __init__(self):\n",
    "        self.items = []\n",
    "\n",
    "    def is_empty(self):\n",
    "        return len(self.items) == 0\n",
    "    \n",
    "    def __len__(self):\n",
    "        return self.size()\n",
    "    \n",
    "    def size(self):\n",
    "        return len(self.items)\n",
    "\n",
    "    def enqueue(self, item):\n",
    "        self.items.insert(0, item)\n",
    "    \n",
    "    def dequeue(self):\n",
    "        if not self.is_empty():\n",
    "            return self.items.pop()\n",
    "    \n",
    "    def peek(self):\n",
    "        if not self.is_empty():\n",
    "            return self.items[-1]\n"
   ]
  },
  {
   "cell_type": "code",
   "execution_count": 17,
   "metadata": {},
   "outputs": [],
   "source": [
    "class BinaryTree(object):\n",
    "    def __init__(self, root_value:int):\n",
    "        self.root = Node(root_value)\n",
    "\n",
    "    def print_tree(self, traversal_type:str):\n",
    "        if traversal_type == 'preorder':\n",
    "            return self.preorder(self.root , '')\n",
    "        elif traversal_type == 'inorder':\n",
    "            return self.inorder(self.root , '')\n",
    "        elif traversal_type == 'postorder':\n",
    "            return self.postorder(self.root , '')\n",
    "        elif traversal_type == 'levelorder':\n",
    "            return self.levelorder(self.root)\n",
    "\n",
    "    def preorder(self, start:Node, traversal:str):\n",
    "        if start:\n",
    "            traversal += str(start.value) + ' '\n",
    "            traversal = self.preorder(start.left , traversal)\n",
    "            traversal = self.preorder(start.right , traversal)\n",
    "        return traversal \n",
    "    \n",
    "    def inorder(self, start:Node, traversal:str):\n",
    "        if start:\n",
    "            traversal = self.inorder( start.left , traversal)\n",
    "            traversal += str(start.value) + ' '\n",
    "            traversal = self.inorder( start.right , traversal)\n",
    "        return traversal\n",
    "    \n",
    "    def postorder(self, start:Node, traversal:str):\n",
    "        if start:\n",
    "            traversal = self.inorder(start.left , traversal )\n",
    "            traversal = self.inorder(start.right , traversal )\n",
    "            traversal += str(start.value) + ' '\n",
    "        return traversal\n",
    "    \n",
    "    def levelorder(self, start:Node):\n",
    "        if start:\n",
    "            q = Queue()\n",
    "            q.enqueue(start)\n",
    "            traversal = ''\n",
    "\n",
    "            while len(q) > 0:\n",
    "                traversal += str(q.peek().value) + ' '\n",
    "                tmp = q.dequeue()\n",
    "                if tmp.left:\n",
    "                    q.enqueue(tmp.left) \n",
    "                if tmp.right:\n",
    "                    q.enqueue(tmp.right)\n",
    "\n",
    "            return traversal"
   ]
  },
  {
   "cell_type": "code",
   "execution_count": 18,
   "metadata": {},
   "outputs": [
    {
     "name": "stdout",
     "output_type": "stream",
     "text": [
      "4 2 5 1 6 3 7 \n",
      "4 2 5 6 3 7 1 \n",
      "1 2 3 4 5 6 7 \n"
     ]
    }
   ],
   "source": [
    "tree = BinaryTree(1)\n",
    "tree.root.left = Node(2)\n",
    "tree.root.right = Node(3)\n",
    "tree.root.left.left = Node(4)\n",
    "tree.root.left.right = Node(5)\n",
    "tree.root.right.left = Node(6)\n",
    "tree.root.right.right = Node(7)\n",
    "\n",
    "print(tree.print_tree('inorder'))\n",
    "print(tree.print_tree('postorder'))\n",
    "print(tree.print_tree('levelorder'))"
   ]
  },
  {
   "cell_type": "code",
   "execution_count": null,
   "metadata": {},
   "outputs": [],
   "source": [
    "def maxDepth(self, root, depth = 0):\n",
    "    \"\"\"\n",
    "    :type root: TreeNode\n",
    "    :rtype: int\n",
    "    \"\"\"\n",
    "    if not root:\n",
    "        return depth\n",
    "    \n",
    "    l = self.maxDepth(root.left , depth+1)\n",
    "    r = self.maxDepth(root.right , depth+1)\n",
    "    print(l,r)\n",
    "    return max(l , r)"
   ]
  },
  {
   "cell_type": "code",
   "execution_count": null,
   "metadata": {},
   "outputs": [],
   "source": [
    "maxDepth()"
   ]
  }
 ],
 "metadata": {
  "kernelspec": {
   "display_name": "Python 3",
   "language": "python",
   "name": "python3"
  },
  "language_info": {
   "codemirror_mode": {
    "name": "ipython",
    "version": 3
   },
   "file_extension": ".py",
   "mimetype": "text/x-python",
   "name": "python",
   "nbconvert_exporter": "python",
   "pygments_lexer": "ipython3",
   "version": "3.10.4"
  },
  "orig_nbformat": 4
 },
 "nbformat": 4,
 "nbformat_minor": 2
}
