{
 "cells": [
  {
   "cell_type": "code",
   "execution_count": 7,
   "metadata": {},
   "outputs": [],
   "source": [
    "class heap(object):\n",
    "    # Implemented using an array(list)\n",
    "    def __init__(self, arr:list) -> None:\n",
    "        self.arr = arr\n",
    "\n",
    "    def max_heapify(self, arr:list, i:int) -> None:\n",
    "        maxi= i\n",
    "        l = 2*i + 1\n",
    "        r = 2*i + 2\n",
    "        n = len(arr)\n",
    "        if ( l < n and arr[l] > arr[maxi]):\n",
    "            maxi = l\n",
    "        if (r < n and arr[r] > arr[maxi]):\n",
    "            maxi = r\n",
    "        if (maxi != i):\n",
    "            arr[i], arr[maxi] = arr[maxi], arr[i]\n",
    "            self.max_heapify(arr, maxi)\n",
    "\n",
    "    def build_maxheap(self) -> list:\n",
    "        self.maxheap = self.arr[:]\n",
    "        n = len(self.maxheap)\n",
    "        for i in range(n//2, -1, -1):\n",
    "            self.max_heapify(self.maxheap, i)\n",
    "        \n",
    "        return self.maxheap\n",
    "\n",
    "    def min_heapify(self, arr:list, i:int) -> None:\n",
    "        mini = i\n",
    "        l = 2*i + 1\n",
    "        r = 2*i + 2\n",
    "        n = len(arr)\n",
    "        if ( l < n and arr[l] < arr[mini]):\n",
    "            mini = l\n",
    "        if (r < n and arr[r] < arr[mini]):\n",
    "            mini = r\n",
    "        if (mini != i):\n",
    "            arr[i], arr[mini] = arr[mini], arr[i]\n",
    "            self.min_heapify(arr, mini) \n",
    "\n",
    "\n",
    "    def build_minheap(self) -> list:\n",
    "        self.minheap = self.arr[:]\n",
    "        n = len(self.minheap)\n",
    "        for i in range(n//2, -1, -1):\n",
    "            self.min_heapify(self.minheap, i)\n",
    "        \n",
    "        return self.minheap\n",
    "\n",
    "    def pop_max(self) -> int:\n",
    "        n = len(self.maxheap)\n",
    "        if n < 1:\n",
    "            return\n",
    "          \n",
    "        max = self.maxheap[0]\n",
    "        self.maxheap[0] = self.maxheap.pop()\n",
    "        self.max_heapify(self.maxheap, 0)\n",
    "        return max\n",
    "\n",
    "    def pop_min(self) -> int:\n",
    "        n = len(self.minheap)\n",
    "        if n < 1:\n",
    "            return\n",
    "\n",
    "        min = self.minheap[0]\n",
    "        self.minheap[0] = self.minheap.pop()\n",
    "        self.min_heapify(self.minheap, 0)\n",
    "        return min\n",
    "    \n",
    "    def change_value(self, i:int, newval:int, type:str) -> None:\n",
    "        if type == 'maxheap':\n",
    "            if self.maxheap[i] < newval:\n",
    "                self.maxheap[i] = newval\n",
    "                while( i > 0 and ( self.maxheap[i] > self.maxheap[i//2] ) ):\n",
    "                    self.maxheap[i], self.maxheap[i//2] = self.maxheap[i//2], self.maxheap[i]\n",
    "                    i //= 2\n",
    "            else:\n",
    "                self.maxheap[i] = newval\n",
    "                self.max_heapify(self.maxheap, i)\n",
    "\n",
    "        elif type == 'minheap':\n",
    "            if self.minheap[i] > newval:\n",
    "                self.minheap[i] = newval\n",
    "                while( i > 0 and ( self.minheap[i] < self.minheap[i//2] ) ):\n",
    "                    self.minheap[i], self.minheap[i//2] = self.minheap[i//2], self.minheap[i]\n",
    "                    i //= 2\n",
    "            else:\n",
    "                self.minheap[i] = newval\n",
    "                self.min_heapify(self.minheap, i)  \n",
    "                \n",
    "    def insert(self, el:int, type:str) -> None:\n",
    "        if type == 'maxheap':\n",
    "            self.maxheap.append(el)\n",
    "            i = len(self.maxheap) - 1\n",
    "            while( i > 0 and ( self.maxheap[i] > self.maxheap[i//2] ) ):\n",
    "                self.maxheap[i], self.maxheap[i//2] = self.maxheap[i//2], self.maxheap[i]\n",
    "                i //= 2\n",
    "\n",
    "        elif type == 'minheap':\n",
    "            self.minheap.append(el)\n",
    "            i = len(self.minheap) - 1\n",
    "            while( i > 0 and ( self.minheap[i] < self.minheap[i//2] ) ):\n",
    "                self.minheap[i], self.minheap[i//2] = self.minheap[i//2], self.minheap[i]\n",
    "                i //= 2"
   ]
  },
  {
   "cell_type": "code",
   "execution_count": 62,
   "metadata": {},
   "outputs": [],
   "source": [
    "x = [1,5,4,10,3]\n",
    "hp = heap(x)"
   ]
  },
  {
   "cell_type": "code",
   "execution_count": 65,
   "metadata": {},
   "outputs": [
    {
     "name": "stdout",
     "output_type": "stream",
     "text": [
      "[1, 5, 4, 10, 3]\n",
      "[10, 5, 4, 1, 3]\n",
      "10\n",
      "[5, 3, 4, 1]\n",
      "[1, 5, 4, 10, 3]\n",
      "[5, 5, 4, 3]\n",
      "[5, 5, 4, 3, 1]\n",
      "[8, 5, 5, 3, 1, 4]\n"
     ]
    }
   ],
   "source": [
    "maxheap = hp.build_maxheap()\n",
    "print(x)\n",
    "print(maxheap)\n",
    "max = hp.pop_max()\n",
    "print(max)\n",
    "print(maxheap)\n",
    "print(x)\n",
    "hp.change_value(3, 5, 'maxheap')\n",
    "print(maxheap)\n",
    "hp.insert(1,'maxheap')\n",
    "print(maxheap)\n",
    "hp.insert(8,'maxheap')\n",
    "print(maxheap)"
   ]
  },
  {
   "cell_type": "code",
   "execution_count": 66,
   "metadata": {},
   "outputs": [
    {
     "name": "stdout",
     "output_type": "stream",
     "text": [
      "[1, 5, 4, 10, 3]\n",
      "[1, 3, 4, 10, 5]\n",
      "1\n",
      "[3, 5, 4, 10]\n",
      "[1, 5, 4, 10, 3]\n",
      "[0, 3, 4, 5]\n",
      "[0, 1, 3, 5, 4]\n",
      "[0, 1, 3, 5, 4, 8]\n"
     ]
    }
   ],
   "source": [
    "minheap = hp.build_minheap()\n",
    "print(x)\n",
    "print(minheap)\n",
    "min = hp.pop_min()\n",
    "print(min)\n",
    "print(minheap)\n",
    "print(x)\n",
    "hp.change_value(3, 0,'minheap')\n",
    "print(minheap)\n",
    "hp.insert(1,'minheap')\n",
    "print(minheap)\n",
    "hp.insert(8,'minheap')\n",
    "print(minheap)"
   ]
  },
  {
   "cell_type": "code",
   "execution_count": 9,
   "metadata": {},
   "outputs": [
    {
     "data": {
      "text/plain": [
       "[9, 5, 2, 1, 4, 10]"
      ]
     },
     "execution_count": 9,
     "metadata": {},
     "output_type": "execute_result"
    }
   ],
   "source": [
    "def heapsort(arr):\n",
    "    hp = heap(arr)\n",
    "    maxheap = hp.build_maxheap()\n",
    "\n",
    "    for i in range(len(maxheap)-1, 0, -1):\n",
    "        maxheap[i], maxheap[0] = maxheap[0], maxheap[i]\n",
    "        hp.max_heapify(arr, 0)\n",
    "\n",
    "x = [4, 5, 2, 1, 9, 10]\n",
    "heapsort(x)\n",
    "x"
   ]
  },
  {
   "cell_type": "markdown",
   "metadata": {},
   "source": [
    "Inspired from [Techdos](https://www.youtube.com/playlist?list=PLEJXowNB4kPyP2PdMhOUlTY6GrRIITx28) "
   ]
  }
 ],
 "metadata": {
  "kernelspec": {
   "display_name": "Python 3",
   "language": "python",
   "name": "python3"
  },
  "language_info": {
   "codemirror_mode": {
    "name": "ipython",
    "version": 3
   },
   "file_extension": ".py",
   "mimetype": "text/x-python",
   "name": "python",
   "nbconvert_exporter": "python",
   "pygments_lexer": "ipython3",
   "version": "3.10.4"
  },
  "orig_nbformat": 4
 },
 "nbformat": 4,
 "nbformat_minor": 2
}
